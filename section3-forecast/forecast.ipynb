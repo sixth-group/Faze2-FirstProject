{
 "cells": [
  {
   "cell_type": "markdown",
   "metadata": {},
   "source": [
    "# Third Section : Forecast"
   ]
  },
  {
   "cell_type": "code",
   "execution_count": 1,
   "metadata": {},
   "outputs": [],
   "source": [
    "import yfinance as yf\n",
    "import pandas as pd"
   ]
  },
  {
   "cell_type": "code",
   "execution_count": 2,
   "metadata": {},
   "outputs": [
    {
     "name": "stdout",
     "output_type": "stream",
     "text": [
      "[*********************100%%**********************]  1 of 1 completed\n"
     ]
    },
    {
     "data": {
      "text/html": [
       "<div>\n",
       "<style scoped>\n",
       "    .dataframe tbody tr th:only-of-type {\n",
       "        vertical-align: middle;\n",
       "    }\n",
       "\n",
       "    .dataframe tbody tr th {\n",
       "        vertical-align: top;\n",
       "    }\n",
       "\n",
       "    .dataframe thead th {\n",
       "        text-align: right;\n",
       "    }\n",
       "</style>\n",
       "<table border=\"1\" class=\"dataframe\">\n",
       "  <thead>\n",
       "    <tr style=\"text-align: right;\">\n",
       "      <th></th>\n",
       "      <th>Open</th>\n",
       "      <th>High</th>\n",
       "      <th>Low</th>\n",
       "      <th>Close</th>\n",
       "      <th>Adj Close</th>\n",
       "      <th>Volume</th>\n",
       "    </tr>\n",
       "    <tr>\n",
       "      <th>Date</th>\n",
       "      <th></th>\n",
       "      <th></th>\n",
       "      <th></th>\n",
       "      <th></th>\n",
       "      <th></th>\n",
       "      <th></th>\n",
       "    </tr>\n",
       "  </thead>\n",
       "  <tbody>\n",
       "    <tr>\n",
       "      <th>2023-01-01</th>\n",
       "      <td>147.309662</td>\n",
       "      <td>148.931030</td>\n",
       "      <td>146.437485</td>\n",
       "      <td>148.576935</td>\n",
       "      <td>148.576935</td>\n",
       "      <td>36453347</td>\n",
       "    </tr>\n",
       "    <tr>\n",
       "      <th>2023-01-02</th>\n",
       "      <td>148.582184</td>\n",
       "      <td>149.623535</td>\n",
       "      <td>147.943558</td>\n",
       "      <td>147.943558</td>\n",
       "      <td>147.943558</td>\n",
       "      <td>47050925</td>\n",
       "    </tr>\n",
       "    <tr>\n",
       "      <th>2023-01-03</th>\n",
       "      <td>147.933929</td>\n",
       "      <td>149.027832</td>\n",
       "      <td>147.628860</td>\n",
       "      <td>148.487930</td>\n",
       "      <td>148.487930</td>\n",
       "      <td>48662135</td>\n",
       "    </tr>\n",
       "    <tr>\n",
       "      <th>2023-01-04</th>\n",
       "      <td>148.466995</td>\n",
       "      <td>152.488983</td>\n",
       "      <td>148.342621</td>\n",
       "      <td>150.743652</td>\n",
       "      <td>150.743652</td>\n",
       "      <td>83915181</td>\n",
       "    </tr>\n",
       "    <tr>\n",
       "      <th>2023-01-05</th>\n",
       "      <td>150.790253</td>\n",
       "      <td>155.921738</td>\n",
       "      <td>150.769043</td>\n",
       "      <td>155.921738</td>\n",
       "      <td>155.921738</td>\n",
       "      <td>78049428</td>\n",
       "    </tr>\n",
       "  </tbody>\n",
       "</table>\n",
       "</div>"
      ],
      "text/plain": [
       "                  Open        High         Low       Close   Adj Close  \\\n",
       "Date                                                                     \n",
       "2023-01-01  147.309662  148.931030  146.437485  148.576935  148.576935   \n",
       "2023-01-02  148.582184  149.623535  147.943558  147.943558  147.943558   \n",
       "2023-01-03  147.933929  149.027832  147.628860  148.487930  148.487930   \n",
       "2023-01-04  148.466995  152.488983  148.342621  150.743652  150.743652   \n",
       "2023-01-05  150.790253  155.921738  150.769043  155.921738  155.921738   \n",
       "\n",
       "              Volume  \n",
       "Date                  \n",
       "2023-01-01  36453347  \n",
       "2023-01-02  47050925  \n",
       "2023-01-03  48662135  \n",
       "2023-01-04  83915181  \n",
       "2023-01-05  78049428  "
      ]
     },
     "execution_count": 2,
     "metadata": {},
     "output_type": "execute_result"
    }
   ],
   "source": [
    "# Define the ticker symbol for Monero (XMR)\n",
    "ticker = 'XMR-USD'\n",
    "\n",
    "# Define the start and end dates for your data collection\n",
    "start_date = '2023-01-01'\n",
    "end_date = '2023-10-06'\n",
    "\n",
    "# Fetch historical data for Monero\n",
    "xmr_data = yf.download(ticker, start=start_date, end=end_date)\n",
    "\n",
    "# Extract the 'Close' prices\n",
    "##mkgr\n",
    "\n",
    "closing_prices = xmr_data['Close']\n",
    "\n",
    "xmr_data.head()"
   ]
  }
 ],
 "metadata": {
  "kernelspec": {
   "display_name": "quera",
   "language": "python",
   "name": "python3"
  },
  "language_info": {
   "codemirror_mode": {
    "name": "ipython",
    "version": 3
   },
   "file_extension": ".py",
   "mimetype": "text/x-python",
   "name": "python",
   "nbconvert_exporter": "python",
   "pygments_lexer": "ipython3",
   "version": "3.9.17"
  }
 },
 "nbformat": 4,
 "nbformat_minor": 2
}
