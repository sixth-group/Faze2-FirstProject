{
 "cells": [
  {
   "cell_type": "markdown",
   "metadata": {},
   "source": [
    "# Importing Required Libraries\n",
    "\n",
    "To implement exhaustive feature selection and perform various data manipulation, preprocessing, model creation, and evaluation tasks, the following libraries are imported:\n",
    "\n",
    "- `itertools`: This library provides functions for generating all combinations of elements in a set.\n",
    "- `pandas`: It is used for reading and manipulating data.\n",
    "- `yfinance`: This library enables the downloading of cryptocurrency data.\n",
    "- `sklearn.preprocessing.StandardScaler`: It performs data preprocessing by scaling the features.\n",
    "- `sklearn.model_selection.train_test_split`: This function splits the data into training and testing sets.\n",
    "- `sklearn.linear_model.LogisticRegression`: It creates a logistic regression model for classification.\n",
    "- `sklearn.metrics`: This module includes various performance metrics for evaluating models.\n",
    "- `sklearn.ensemble.RandomForestClassifier`: It creates a random forest model for classification.\n",
    "- `sklearn.metrics.accuracy_score`, `sklearn.metrics.precision_score`, `sklearn.metrics.recall_score`, `sklearn.metrics.f1_score`, `sklearn.metrics.roc_auc_score`, `sklearn.metrics.confusion_matrix`: These functions are used to calculate different evaluation metrics for the models.\n",
    "- `sklearn.model_selection.train_test_split`: This function is used to split the data into training and testing sets.\n",
    "- `sklearn.impute.SimpleImputer`: It is used for imputing missing values in the data.\n",
    "\n",
    "The code snippet demonstrates the import of these libraries to support the various tasks involved in implementing exhaustive feature selection, data manipulation, preprocessing, model creation, and evaluation.\n"
   ]
  },
  {
   "cell_type": "code",
   "execution_count": 66,
   "metadata": {},
   "outputs": [],
   "source": [
    "# to get the all subsets of a set for implement exhaustive feature selection\n",
    "from itertools import chain, combinations\n",
    "\n",
    "# to read and manipulation data\n",
    "import pandas as pd\n",
    "\n",
    "# to download data of the cryptocurrency\n",
    "import yfinance as yf\n",
    "\n",
    "# to preprocess the data, make, train and evaluate the model\n",
    "from sklearn.ensemble import RandomForestClassifier\n",
    "from sklearn.metrics import accuracy_score, precision_score, recall_score, f1_score, roc_auc_score, confusion_matrix\n",
    "from sklearn.model_selection import train_test_split\n",
    "from sklearn.impute import SimpleImputer\n",
    "# to draw a heatmap\n",
    "import seaborn as sns\n",
    "import matplotlib.pyplot as plt"
   ]
  },
  {
   "cell_type": "markdown",
   "metadata": {},
   "source": [
    "# Downloading Cryptocurrency Data\n",
    "\n",
    "To download data for a specific cryptocurrency, the following code snippet utilizes the `yfinance` library."
   ]
  },
  {
   "cell_type": "code",
   "execution_count": 67,
   "metadata": {},
   "outputs": [
    {
     "name": "stdout",
     "output_type": "stream",
     "text": [
      "[*********************100%%**********************]  1 of 1 completed\n"
     ]
    }
   ],
   "source": [
    "# download data of the cryptocurrency\n",
    "\n",
    "df_xmr = yf.download(tickers=\"XMR-USD\", period=\"max\", interval=\"1d\", start=\"2023-01-01\", end=\"2023-10-09\")"
   ]
  },
  {
   "cell_type": "code",
   "execution_count": 68,
   "metadata": {},
   "outputs": [
    {
     "data": {
      "text/html": [
       "<div>\n",
       "<style scoped>\n",
       "    .dataframe tbody tr th:only-of-type {\n",
       "        vertical-align: middle;\n",
       "    }\n",
       "\n",
       "    .dataframe tbody tr th {\n",
       "        vertical-align: top;\n",
       "    }\n",
       "\n",
       "    .dataframe thead th {\n",
       "        text-align: right;\n",
       "    }\n",
       "</style>\n",
       "<table border=\"1\" class=\"dataframe\">\n",
       "  <thead>\n",
       "    <tr style=\"text-align: right;\">\n",
       "      <th></th>\n",
       "      <th>Open</th>\n",
       "      <th>High</th>\n",
       "      <th>Low</th>\n",
       "      <th>Close</th>\n",
       "      <th>Adj Close</th>\n",
       "      <th>Volume</th>\n",
       "    </tr>\n",
       "    <tr>\n",
       "      <th>Date</th>\n",
       "      <th></th>\n",
       "      <th></th>\n",
       "      <th></th>\n",
       "      <th></th>\n",
       "      <th></th>\n",
       "      <th></th>\n",
       "    </tr>\n",
       "  </thead>\n",
       "  <tbody>\n",
       "    <tr>\n",
       "      <th>2023-01-01</th>\n",
       "      <td>147.309662</td>\n",
       "      <td>148.931030</td>\n",
       "      <td>146.437485</td>\n",
       "      <td>148.576935</td>\n",
       "      <td>148.576935</td>\n",
       "      <td>36453347</td>\n",
       "    </tr>\n",
       "    <tr>\n",
       "      <th>2023-01-02</th>\n",
       "      <td>148.582184</td>\n",
       "      <td>149.623535</td>\n",
       "      <td>147.943558</td>\n",
       "      <td>147.943558</td>\n",
       "      <td>147.943558</td>\n",
       "      <td>47050925</td>\n",
       "    </tr>\n",
       "    <tr>\n",
       "      <th>2023-01-03</th>\n",
       "      <td>147.933929</td>\n",
       "      <td>149.027832</td>\n",
       "      <td>147.628860</td>\n",
       "      <td>148.487930</td>\n",
       "      <td>148.487930</td>\n",
       "      <td>48662135</td>\n",
       "    </tr>\n",
       "    <tr>\n",
       "      <th>2023-01-04</th>\n",
       "      <td>148.466995</td>\n",
       "      <td>152.488983</td>\n",
       "      <td>148.342621</td>\n",
       "      <td>150.743652</td>\n",
       "      <td>150.743652</td>\n",
       "      <td>83915181</td>\n",
       "    </tr>\n",
       "    <tr>\n",
       "      <th>2023-01-05</th>\n",
       "      <td>150.790253</td>\n",
       "      <td>155.921738</td>\n",
       "      <td>150.769043</td>\n",
       "      <td>155.921738</td>\n",
       "      <td>155.921738</td>\n",
       "      <td>78049428</td>\n",
       "    </tr>\n",
       "  </tbody>\n",
       "</table>\n",
       "</div>"
      ],
      "text/plain": [
       "                  Open        High         Low       Close   Adj Close  \\\n",
       "Date                                                                     \n",
       "2023-01-01  147.309662  148.931030  146.437485  148.576935  148.576935   \n",
       "2023-01-02  148.582184  149.623535  147.943558  147.943558  147.943558   \n",
       "2023-01-03  147.933929  149.027832  147.628860  148.487930  148.487930   \n",
       "2023-01-04  148.466995  152.488983  148.342621  150.743652  150.743652   \n",
       "2023-01-05  150.790253  155.921738  150.769043  155.921738  155.921738   \n",
       "\n",
       "              Volume  \n",
       "Date                  \n",
       "2023-01-01  36453347  \n",
       "2023-01-02  47050925  \n",
       "2023-01-03  48662135  \n",
       "2023-01-04  83915181  \n",
       "2023-01-05  78049428  "
      ]
     },
     "execution_count": 68,
     "metadata": {},
     "output_type": "execute_result"
    }
   ],
   "source": [
    "# show the downloaded data\n",
    "df_xmr.head()"
   ]
  },
  {
   "cell_type": "markdown",
   "metadata": {},
   "source": [
    "# Data Manipulation and Feature Engineering\n",
    "\n",
    "This code snippet demonstrates data manipulation and feature engineering steps performed on the downloaded cryptocurrency data.\n",
    "\n",
    "1. Calculating the Actual Class Labels:\n",
    "   - The code compares the closing prices of the \"XMR-USD\" cryptocurrency from January 4, 2023, onwards with the closing prices between January 3, 2023, and October 7, 2023.\n",
    "   - The comparison is done element-wise, and the resulting boolean values are converted to binary values (0 or 1) using `astype(int)`.\n",
    "   - The calculated class labels representing price increase or decrease are stored in the `actual_class` variable.\n",
    "\n",
    "2. Dropping a Specific Date:\n",
    "   - The code removes a specific date, \"2023-10-08\", from the `df_xmr` dataframe.\n",
    "   - This operation eliminates the corresponding row from the dataframe.\n",
    "\n",
    "3. Creating a New Feature: \"Price increase (in the next day)\":\n",
    "   - The code adds a new feature called \"Price increase (in the next day)\" to the `df_xmr` dataframe.\n",
    "   - The feature is populated with the values from the `actual_class` variable, representing the price increase (1) or decrease (0) in the subsequent day.\n",
    "\n",
    "These data manipulations and feature engineering steps are performed to prepare the data for further analysis or modeling.\n",
    "\n",
    "Please note that the code assumes the existence of the `df_xmr` dataframe, which should contain the downloaded cryptocurrency data."
   ]
  },
  {
   "cell_type": "code",
   "execution_count": 69,
   "metadata": {},
   "outputs": [],
   "source": [
    "actual_class = (\n",
    "    (df_xmr.loc[\"2023-01-04\":, \"Close\"].to_numpy() > df_xmr.loc[\"2023-01-03\":\"2023-10-07\", \"Close\"]).astype(int)\n",
    ")\n",
    "df_xmr = df_xmr.drop(\"2023-10-08\")\n",
    "df_xmr[\"Price increase (in the next day)\"] = actual_class"
   ]
  },
  {
   "cell_type": "markdown",
   "metadata": {},
   "source": [
    "# Splitting the Data into Training, Validation, and Test Sets\n",
    "\n",
    "The code splits the data into training, validation, and test sets to evaluate the model's performance and assess its generalizability. The `train_test_split` function from the `sklearn.model_selection` module is used for this purpose.\n",
    "\n",
    "1. Initial Split:\n",
    "   - The `df_xmr` dataframe is initially split into two parts: `train_data` and `test_data`.\n",
    "   - The `test_data` portion is 20% of the original data, while the `train_data` portion contains the remaining 80% of the data.\n",
    "\n",
    "2. Further Splitting:\n",
    "   - The `train_data` portion is further split into two parts: `train_data` and `val_data`.\n",
    "   - The `val_data` portion is also 20% of the `train_data`, while the `train_data` retains the remaining 80% of the data.\n",
    "\n",
    "By splitting the data into training, validation, and test sets, it allows for different stages of model development and evaluation:\n",
    "- The `train_data` set is used for training the model.\n",
    "- The `val_data` set is utilized for hyperparameter tuning and assessing the model's performance.\n",
    "- The `test_data` set serves as an independent dataset to evaluate the final model's generalization ability and performance.\n",
    "\n",
    "Please note that setting `shuffle=False` ensures that the data is split sequentially, maintaining the temporal order of the data. This can be important in scenarios such as time-series analysis or any other case where the order of the data is significant."
   ]
  },
  {
   "cell_type": "code",
   "execution_count": 70,
   "metadata": {},
   "outputs": [],
   "source": [
    "# Split the data into training, validation, and test sets\n",
    "train_data, test_data = train_test_split(df_xmr, test_size=0.2, shuffle=False)\n",
    "train_data, val_data = train_test_split(train_data, test_size=0.2, shuffle=False)"
   ]
  },
  {
   "cell_type": "markdown",
   "metadata": {},
   "source": [
    "# Defining Feature Columns and Target Variable\n",
    "\n",
    "The code snippet defines the feature columns and target variable for the model training and prediction.\n",
    "\n",
    "1. Feature Columns:\n",
    "   - The `feature_cols` list specifies the names of the columns from the dataset that will serve as input features for the model.\n",
    "   - In this case, the feature columns include `'Open'`, `'High'`, `'Low'`, `'Close'`, `'Adj Close'`, and `'Volume'`.\n",
    "\n",
    "2. Target Variable:\n",
    "   - The `target_col` variable represents the target variable or the column that the model aims to predict.\n",
    "   - In this case, the target variable is `'Price increase (in the next day)'`.\n",
    "\n",
    "By defining the feature columns and target variable, the code establishes which features will be used as inputs and which column the model will predict during the training and evaluation process.\n",
    "\n"
   ]
  },
  {
   "cell_type": "code",
   "execution_count": 71,
   "metadata": {},
   "outputs": [],
   "source": [
    "# Define feature columns and target variable\n",
    "feature_cols = ['Open', 'High', 'Low', 'Close', 'Adj Close', 'Volume']\n",
    "target_col = 'Price increase (in the next day)'"
   ]
  },
  {
   "cell_type": "markdown",
   "metadata": {},
   "source": [
    "# Splitting Features and Target Variable for Training, Validation, and Test Sets\n",
    "\n",
    "The code snippet splits the features and target variable into separate variables for the training, validation, and test sets. This step is crucial for preparing the data for model training and evaluation.\n",
    "\n",
    "1. Training Set:\n",
    "   - The `X_train` variable contains the features for the training set.\n",
    "   - The features are obtained from the `train_data` dataframe using the specified `feature_cols`.\n",
    "   - The `y_train` variable represents the corresponding target variable for the training set.\n",
    "   - The target variable is obtained from the `train_data` dataframe using the specified `target_col`.\n",
    "\n",
    "2. Validation Set:\n",
    "   - The `X_val` variable contains the features for the validation set.\n",
    "   - The features are obtained from the `val_data` dataframe using the specified `feature_cols`.\n",
    "   - The `y_val` variable represents the corresponding target variable for the validation set.\n",
    "   - The target variable is obtained from the `val_data` dataframe using the specified `target_col`.\n",
    "\n",
    "3. Test Set:\n",
    "   - The `X_test` variable contains the features for the test set.\n",
    "   - The features are obtained from the `test_data` dataframe using the specified `feature_cols`.\n",
    "   - The `y_test` variable represents the corresponding target variable for the test set.\n",
    "   - The target variable is obtained from the `test_data` dataframe using the specified `target_col`.\n",
    "\n",
    "By splitting the features and target variable for each set, the code prepares the data in separate variables for model training and evaluation on the training, validation, and test sets.\n",
    "\n"
   ]
  },
  {
   "cell_type": "code",
   "execution_count": 72,
   "metadata": {},
   "outputs": [],
   "source": [
    "# Split features and target variable for training, validation, and test sets\n",
    "X_train, y_train = train_data[feature_cols], train_data[target_col]\n",
    "X_val, y_val = val_data[feature_cols], val_data[target_col]\n",
    "X_test, y_test = test_data[feature_cols], test_data[target_col]"
   ]
  },
  {
   "cell_type": "markdown",
   "metadata": {},
   "source": [
    "# Handling Missing Values in the Features and Target Variables\n",
    "\n",
    "The code snippet handles missing values in the features and target variables using the `SimpleImputer` class from the `sklearn.impute` module.\n",
    "\n",
    "1. Creating an Imputer:\n",
    "   - An instance of the `SimpleImputer` class is created with the `strategy` parameter set to `\"mean\"`.\n",
    "   - The `\"mean\"` strategy replaces missing values with the mean of the non-missing values in the respective column.\n",
    "\n",
    "2. Handling Missing Values:\n",
    "   - The missing values in the training set, `X_train`, are handled by fitting the imputer on the training data using the `fit_transform()` method.\n",
    "   - The missing values in the validation set, `X_val`, are handled by transforming the validation data using the `transform()` method.\n",
    "   - The missing values in the test set, `X_test`, are also handled by transforming the test data using the `transform()` method.\n",
    "\n",
    "By applying the `SimpleImputer` with the mean strategy, the code replaces missing values in the features with the mean of the non-missing values in each respective column.\n",
    "\n"
   ]
  },
  {
   "cell_type": "code",
   "execution_count": 73,
   "metadata": {},
   "outputs": [],
   "source": [
    "# Handle missing values in the features and target variables\n",
    "imputer = SimpleImputer(strategy=\"mean\")\n",
    "X_train = imputer.fit_transform(X_train)\n",
    "X_val = imputer.transform(X_val)\n",
    "X_test = imputer.transform(X_test)"
   ]
  },
  {
   "cell_type": "markdown",
   "metadata": {},
   "source": [
    "# Handling Missing Values in the Target Variable\n",
    "\n",
    "The code snippet handles missing values in the target variable using the `SimpleImputer` class from the `sklearn.impute` module.\n",
    "\n",
    "1. Creating an Imputer:\n",
    "   - An instance of the `SimpleImputer` class is created with the `strategy` parameter set to `\"most_frequent\"`.\n",
    "   - The `\"most_frequent\"` strategy replaces missing values with the most frequent value in the respective column.\n",
    "\n",
    "2. Handling Missing Values:\n",
    "   - Missing values in the training set target variable, `y_train`, are handled by fitting the imputer on the training target data using the `fit_transform()` method.\n",
    "   - Missing values in the validation set target variable, `y_val`, are handled by transforming the validation target data using the `transform()` method.\n",
    "   - Missing values in the test set target variable, `y_test`, are also handled by transforming the test target data using the `transform()` method.\n",
    "\n",
    "By applying the `SimpleImputer` with the most frequent strategy, the code replaces missing values in the target variable with the most frequent value in the respective column.\n",
    "\n",
    "Handling missing values in the target variable is important to ensure that the data is complete and suitable for model training and evaluation."
   ]
  },
  {
   "cell_type": "code",
   "execution_count": 74,
   "metadata": {},
   "outputs": [],
   "source": [
    "# Handle missing values in the target variable\n",
    "imputer_target = SimpleImputer(strategy=\"most_frequent\")\n",
    "y_train = imputer_target.fit_transform(y_train.values.reshape(-1, 1)).ravel()\n",
    "y_val = imputer_target.transform(y_val.values.reshape(-1, 1)).ravel()\n",
    "y_test = imputer_target.transform(y_test.values.reshape(-1, 1)).ravel()"
   ]
  },
  {
   "cell_type": "markdown",
   "metadata": {},
   "source": [
    "# Training the Random Forest Model\n",
    "\n",
    "The code snippet trains a random forest model using the `RandomForestClassifier` class from the `sklearn.ensemble` module.\n",
    "\n",
    "1. Creating the Model:\n",
    "   - An instance of the `RandomForestClassifier` class is created with the `n_estimators` parameter set to `100` and the `random_state` parameter set to `42`.\n",
    "   - The `n_estimators` parameter specifies the number of decision trees in the random forest, and the `random_state` parameter ensures reproducibility of the results.\n",
    "\n",
    "2. Training the Model:\n",
    "   - The model is trained on the training data by calling the `fit()` method on the model object.\n",
    "   - The `fit()` method takes the training features, `X_train`, and the corresponding training target variable, `y_train`, as input.\n",
    "\n",
    "By executing these steps, the code trains a random forest model on the provided training data.\n",
    "\n",
    "Please note that the specific parameters chosen for the random forest model, such as the number of estimators, can be adjusted based on the dataset and the problem at hand."
   ]
  },
  {
   "cell_type": "code",
   "execution_count": 75,
   "metadata": {},
   "outputs": [
    {
     "data": {
      "text/html": [
       "<style>#sk-container-id-4 {color: black;background-color: white;}#sk-container-id-4 pre{padding: 0;}#sk-container-id-4 div.sk-toggleable {background-color: white;}#sk-container-id-4 label.sk-toggleable__label {cursor: pointer;display: block;width: 100%;margin-bottom: 0;padding: 0.3em;box-sizing: border-box;text-align: center;}#sk-container-id-4 label.sk-toggleable__label-arrow:before {content: \"▸\";float: left;margin-right: 0.25em;color: #696969;}#sk-container-id-4 label.sk-toggleable__label-arrow:hover:before {color: black;}#sk-container-id-4 div.sk-estimator:hover label.sk-toggleable__label-arrow:before {color: black;}#sk-container-id-4 div.sk-toggleable__content {max-height: 0;max-width: 0;overflow: hidden;text-align: left;background-color: #f0f8ff;}#sk-container-id-4 div.sk-toggleable__content pre {margin: 0.2em;color: black;border-radius: 0.25em;background-color: #f0f8ff;}#sk-container-id-4 input.sk-toggleable__control:checked~div.sk-toggleable__content {max-height: 200px;max-width: 100%;overflow: auto;}#sk-container-id-4 input.sk-toggleable__control:checked~label.sk-toggleable__label-arrow:before {content: \"▾\";}#sk-container-id-4 div.sk-estimator input.sk-toggleable__control:checked~label.sk-toggleable__label {background-color: #d4ebff;}#sk-container-id-4 div.sk-label input.sk-toggleable__control:checked~label.sk-toggleable__label {background-color: #d4ebff;}#sk-container-id-4 input.sk-hidden--visually {border: 0;clip: rect(1px 1px 1px 1px);clip: rect(1px, 1px, 1px, 1px);height: 1px;margin: -1px;overflow: hidden;padding: 0;position: absolute;width: 1px;}#sk-container-id-4 div.sk-estimator {font-family: monospace;background-color: #f0f8ff;border: 1px dotted black;border-radius: 0.25em;box-sizing: border-box;margin-bottom: 0.5em;}#sk-container-id-4 div.sk-estimator:hover {background-color: #d4ebff;}#sk-container-id-4 div.sk-parallel-item::after {content: \"\";width: 100%;border-bottom: 1px solid gray;flex-grow: 1;}#sk-container-id-4 div.sk-label:hover label.sk-toggleable__label {background-color: #d4ebff;}#sk-container-id-4 div.sk-serial::before {content: \"\";position: absolute;border-left: 1px solid gray;box-sizing: border-box;top: 0;bottom: 0;left: 50%;z-index: 0;}#sk-container-id-4 div.sk-serial {display: flex;flex-direction: column;align-items: center;background-color: white;padding-right: 0.2em;padding-left: 0.2em;position: relative;}#sk-container-id-4 div.sk-item {position: relative;z-index: 1;}#sk-container-id-4 div.sk-parallel {display: flex;align-items: stretch;justify-content: center;background-color: white;position: relative;}#sk-container-id-4 div.sk-item::before, #sk-container-id-4 div.sk-parallel-item::before {content: \"\";position: absolute;border-left: 1px solid gray;box-sizing: border-box;top: 0;bottom: 0;left: 50%;z-index: -1;}#sk-container-id-4 div.sk-parallel-item {display: flex;flex-direction: column;z-index: 1;position: relative;background-color: white;}#sk-container-id-4 div.sk-parallel-item:first-child::after {align-self: flex-end;width: 50%;}#sk-container-id-4 div.sk-parallel-item:last-child::after {align-self: flex-start;width: 50%;}#sk-container-id-4 div.sk-parallel-item:only-child::after {width: 0;}#sk-container-id-4 div.sk-dashed-wrapped {border: 1px dashed gray;margin: 0 0.4em 0.5em 0.4em;box-sizing: border-box;padding-bottom: 0.4em;background-color: white;}#sk-container-id-4 div.sk-label label {font-family: monospace;font-weight: bold;display: inline-block;line-height: 1.2em;}#sk-container-id-4 div.sk-label-container {text-align: center;}#sk-container-id-4 div.sk-container {/* jupyter's `normalize.less` sets `[hidden] { display: none; }` but bootstrap.min.css set `[hidden] { display: none !important; }` so we also need the `!important` here to be able to override the default hidden behavior on the sphinx rendered scikit-learn.org. See: https://github.com/scikit-learn/scikit-learn/issues/21755 */display: inline-block !important;position: relative;}#sk-container-id-4 div.sk-text-repr-fallback {display: none;}</style><div id=\"sk-container-id-4\" class=\"sk-top-container\"><div class=\"sk-text-repr-fallback\"><pre>RandomForestClassifier(random_state=42)</pre><b>In a Jupyter environment, please rerun this cell to show the HTML representation or trust the notebook. <br />On GitHub, the HTML representation is unable to render, please try loading this page with nbviewer.org.</b></div><div class=\"sk-container\" hidden><div class=\"sk-item\"><div class=\"sk-estimator sk-toggleable\"><input class=\"sk-toggleable__control sk-hidden--visually\" id=\"sk-estimator-id-4\" type=\"checkbox\" checked><label for=\"sk-estimator-id-4\" class=\"sk-toggleable__label sk-toggleable__label-arrow\">RandomForestClassifier</label><div class=\"sk-toggleable__content\"><pre>RandomForestClassifier(random_state=42)</pre></div></div></div></div></div>"
      ],
      "text/plain": [
       "RandomForestClassifier(random_state=42)"
      ]
     },
     "execution_count": 75,
     "metadata": {},
     "output_type": "execute_result"
    }
   ],
   "source": [
    "# Train the random forest model\n",
    "model = RandomForestClassifier(n_estimators=100, random_state=42)\n",
    "model.fit(X_train, y_train)"
   ]
  },
  {
   "cell_type": "markdown",
   "metadata": {},
   "source": [
    "# Making Predictions on the Validation Set\n",
    "\n",
    "The code snippet makes predictions on the validation set using the trained random forest model.\n",
    "\n",
    "1. Making Predictions:\n",
    "   - The `predict()` method is called on the trained random forest model, `model`, to generate predictions for the validation set, `X_val`.\n",
    "   - The `predict()` method takes the validation features, `X_val`, as input and returns the predicted target values.\n",
    "\n",
    "By executing these steps, the code generates predictions for the validation set using the trained random forest model.\n",
    "\n",
    "Please note that the predictions can be further evaluated using appropriate metrics or compared against the actual target values to assess the model's performance."
   ]
  },
  {
   "cell_type": "code",
   "execution_count": 76,
   "metadata": {},
   "outputs": [],
   "source": [
    "# Make predictions on the validation set\n",
    "val_predictions = model.predict(X_val)"
   ]
  },
  {
   "cell_type": "code",
   "execution_count": 77,
   "metadata": {},
   "outputs": [
    {
     "data": {
      "text/plain": [
       "array([0., 0., 0., 0., 1., 0., 0., 0., 0., 0., 0., 1., 0., 0., 0., 1., 0.,\n",
       "       0., 0., 0., 1., 0., 1., 1., 1., 1., 0., 1., 1., 1., 1., 0., 0., 1.,\n",
       "       0., 0., 1., 0., 0., 0., 0., 0., 1., 1., 1.])"
      ]
     },
     "execution_count": 77,
     "metadata": {},
     "output_type": "execute_result"
    }
   ],
   "source": [
    "val_predictions"
   ]
  },
  {
   "cell_type": "markdown",
   "metadata": {},
   "source": [
    "# Evaluating Model Performance on the Validation Set\n",
    "\n",
    "The code snippet evaluates the performance of the trained random forest model on the validation set by calculating various evaluation metrics.\n",
    "\n",
    "1. Accuracy:\n",
    "   - The `accuracy_score()` function from the `sklearn.metrics` module is used to calculate the accuracy of the model's predictions on the validation set.\n",
    "   - The `accuracy_score()` function takes the actual target values, `y_val`, and the predicted target values, `val_predictions`, as input and returns the accuracy score.\n",
    "\n",
    "2. Precision:\n",
    "   - The `precision_score()` function is used to calculate the precision of the model's predictions on the validation set.\n",
    "   - The `precision_score()` function takes the actual target values, `y_val`, and the predicted target values, `val_predictions`, as input and returns the precision score.\n",
    "\n",
    "3. Recall:\n",
    "   - The `recall_score()` function is used to calculate the recall of the model's predictions on the validation set.\n",
    "   - The `recall_score()` function takes the actual target values, `y_val`, and the predicted target values, `val_predictions`, as input and returns the recall score.\n",
    "\n",
    "4. F1 Score:\n",
    "   - The `f1_score()` function is used to calculate the F1 score of the model's predictions on the validation set.\n",
    "   - The `f1_score()` function takes the actual target values, `y_val`, and the predicted target values, `val_predictions`, as input and returns the F1 score.\n",
    "\n",
    "5. AUC-ROC Score:\n",
    "   - The `roc_auc_score()` function is used to calculate the AUC-ROC score of the model's predictions on the validation set.\n",
    "   - The `roc_auc_score()` function takes the actual target values, `y_val`, and the predicted target values, `val_predictions`, as input and returns the AUC-ROC score.\n",
    "\n",
    "6. Confusion Matrix:\n",
    "   - The `confusion_matrix()` function is used to calculate the confusion matrix of the model's predictions on the validation set.\n",
    "   - The `confusion_matrix()` function takes the actual target values, `y_val`, and the predicted target values, `val_predictions`, as input and returns the confusion matrix.\n",
    "\n",
    "By executing these steps, the code evaluates the performance of the trained random forest model on the validation set using various evaluation metrics.\n"
   ]
  },
  {
   "cell_type": "code",
   "execution_count": 78,
   "metadata": {},
   "outputs": [],
   "source": [
    "# Evaluate model performance on the validation set\n",
    "accuracy = accuracy_score(y_val, val_predictions)\n",
    "precision = precision_score(y_val, val_predictions)\n",
    "recall = recall_score(y_val, val_predictions)\n",
    "f1 = f1_score(y_val, val_predictions)\n",
    "auc = roc_auc_score(y_val, val_predictions)\n",
    "confusion = confusion_matrix(y_val, val_predictions)"
   ]
  },
  {
   "cell_type": "code",
   "execution_count": 79,
   "metadata": {},
   "outputs": [
    {
     "name": "stdout",
     "output_type": "stream",
     "text": [
      "Accuracy: 0.5555555555555556\n",
      "Precision: 0.5882352941176471\n",
      "Recall: 0.43478260869565216\n",
      "F1 Score: 0.5\n",
      "AUC: 0.558300395256917\n",
      "Confusion Matrix:\n",
      "[[15  7]\n",
      " [13 10]]\n"
     ]
    }
   ],
   "source": [
    "# Print evaluation metrics and confusion matrix\n",
    "print(f'Accuracy: {accuracy}')\n",
    "print(f'Precision: {precision}')\n",
    "print(f'Recall: {recall}')\n",
    "print(f'F1 Score: {f1}')\n",
    "print(f'AUC: {auc}')\n",
    "print('Confusion Matrix:')\n",
    "print(confusion)"
   ]
  },
  {
   "cell_type": "markdown",
   "metadata": {},
   "source": [
    "# Making Predictions on the Test Set\n",
    "\n",
    "The code snippet makes predictions on the test set using the trained random forest model.\n",
    "\n",
    "1. Making Predictions:\n",
    "   - The `predict()` method is called on the trained random forest model, `model`, to generate predictions for the test set, `X_test`.\n",
    "   - The `predict()` method takes the test features, `X_test`, as input and returns the predicted target values.\n",
    "\n",
    "By executing these steps, the code generates predictions for the test set using the trained random forest model.\n",
    "\n"
   ]
  },
  {
   "cell_type": "code",
   "execution_count": 80,
   "metadata": {},
   "outputs": [],
   "source": [
    "# Make predictions on the test set\n",
    "test_predictions = model.predict(X_test)"
   ]
  },
  {
   "cell_type": "code",
   "execution_count": 81,
   "metadata": {},
   "outputs": [
    {
     "data": {
      "text/plain": [
       "array([0., 0., 1., 0., 1., 1., 1., 1., 1., 1., 1., 1., 1., 0., 1., 1., 0.,\n",
       "       1., 1., 1., 1., 1., 1., 1., 1., 1., 0., 1., 0., 1., 1., 1., 1., 1.,\n",
       "       1., 1., 1., 1., 1., 0., 1., 1., 1., 1., 1., 1., 1., 1., 1., 1., 1.,\n",
       "       1., 1., 1., 0., 0.])"
      ]
     },
     "execution_count": 81,
     "metadata": {},
     "output_type": "execute_result"
    }
   ],
   "source": [
    "test_predictions"
   ]
  },
  {
   "cell_type": "markdown",
   "metadata": {},
   "source": [
    "# Evaluating Model Performance on the Test Set\n",
    "\n",
    "The code snippet evaluates the performance of the trained random forest model on the test set by calculating various evaluation metrics.\n",
    "\n",
    "\n"
   ]
  },
  {
   "cell_type": "code",
   "execution_count": 82,
   "metadata": {},
   "outputs": [],
   "source": [
    "# Evaluate model performance on the test set\n",
    "test_accuracy = accuracy_score(y_test, test_predictions)\n",
    "test_precision = precision_score(y_test, test_predictions)\n",
    "test_recall = recall_score(y_test, test_predictions)\n",
    "test_f1 = f1_score(y_test, test_predictions)\n",
    "test_auc = roc_auc_score(y_test, test_predictions)\n",
    "test_confusion = confusion_matrix(y_test, test_predictions)"
   ]
  },
  {
   "cell_type": "code",
   "execution_count": 83,
   "metadata": {},
   "outputs": [
    {
     "name": "stdout",
     "output_type": "stream",
     "text": [
      "\n",
      "Test Set Performance:\n",
      "Test Accuracy: 0.625\n",
      "Test Precision: 0.6304347826086957\n",
      "Test Recall: 0.8787878787878788\n",
      "Test F1 Score: 0.7341772151898734\n",
      "Test AUC: 0.5698287220026351\n",
      "Test Confusion Matrix:\n",
      "[[ 6 17]\n",
      " [ 4 29]]\n"
     ]
    }
   ],
   "source": [
    "# Print evaluation metrics and confusion matrix for the test set\n",
    "print('\\nTest Set Performance:')\n",
    "print(f'Test Accuracy: {test_accuracy}')\n",
    "print(f'Test Precision: {test_precision}')\n",
    "print(f'Test Recall: {test_recall}')\n",
    "print(f'Test F1 Score: {test_f1}')\n",
    "print(f'Test AUC: {test_auc}')\n",
    "print('Test Confusion Matrix:')\n",
    "print(test_confusion)"
   ]
  },
  {
   "cell_type": "markdown",
   "metadata": {},
   "source": [
    "# Creating a Heatmap Using Seaborn\n",
    "\n",
    "The code snippet creates a heatmap using the Seaborn library based on the `test_confusion` matrix.\n",
    "\n",
    "1. Creating a Heatmap:\n",
    "   - The `sns.heatmap()` function from the Seaborn library is used to create a heatmap.\n",
    "   - The `test_confusion` matrix is passed as input to the `sns.heatmap()` function.\n",
    "   - Additional arguments are provided to customize the heatmap:\n",
    "     - `cmap='coolwarm'`: Sets the color map for the heatmap.\n",
    "     - `annot=True`: Enables annotations to be displayed in each cell of the heatmap.\n",
    "     - `fmt=\".1f\"`: Formats the annotations to display one decimal place.\n",
    "\n",
    "2. Adding Labels and Title:\n",
    "   - The `plt.xlabel()` function is used to add a label to the x-axis, which is set to 'Predicted Labels'.\n",
    "   - The `plt.ylabel()` function is used to add a label to the y-axis, which is set to 'True Labels'.\n",
    "\n",
    "3. Displaying the Plot:\n",
    "   - The `plt.show()` function is called to display the heatmap plot.\n"
   ]
  },
  {
   "cell_type": "code",
   "execution_count": 84,
   "metadata": {},
   "outputs": [
    {
     "data": {
      "image/png": "[encoded data removed]",
      "text/plain": [
       "<Figure size 640x480 with 2 Axes>"
      ]
     },
     "metadata": {},
     "output_type": "display_data"
    }
   ],
   "source": [
    "# Create a heatmap using Seaborn\n",
    "sns.heatmap(test_confusion, cmap='coolwarm', annot=True, fmt=\".1f\")\n",
    "\n",
    "# Add labels and title\n",
    "plt.xlabel('predicted labels')\n",
    "plt.ylabel('True label')\n",
    "\n",
    "# Display the plot\n",
    "plt.show()"
   ]
  }
 ],
 "metadata": {
  "kernelspec": {
   "display_name": "Python 3",
   "language": "python",
   "name": "python3"
  },
  "language_info": {
   "codemirror_mode": {
    "name": "ipython",
    "version": 3
   },
   "file_extension": ".py",
   "mimetype": "text/x-python",
   "name": "python",
   "nbconvert_exporter": "python",
   "pygments_lexer": "ipython3",
   "version": "3.10.5"
  }
 },
 "nbformat": 4,
 "nbformat_minor": 2
}
