{
 "cells": [
  {
   "cell_type": "code",
   "execution_count": 1,
   "metadata": {},
   "outputs": [],
   "source": [
    "# to get the all subsets of a set for implement exhaustive feature selection\n",
    "from itertools import chain, combinations\n",
    "\n",
    "# to read and manipulation data\n",
    "import pandas as pd\n",
    "\n",
    "# to download data of the cryptocurrency\n",
    "import yfinance as yf\n",
    "\n",
    "# to preprocess the data, make, train and evaluate the model\n",
    "from sklearn.preprocessing import StandardScaler\n",
    "from sklearn.model_selection import train_test_split, cross_val_score\n",
    "from sklearn.linear_model import LogisticRegression\n",
    "import sklearn.metrics as metrics"
   ]
  },
  {
   "cell_type": "code",
   "execution_count": 39,
   "metadata": {},
   "outputs": [
    {
     "name": "stdout",
     "output_type": "stream",
     "text": [
      "[*********************100%%**********************]  1 of 1 completed\n"
     ]
    }
   ],
   "source": [
    "# download data of the cryptocurrency\n",
    "\n",
    "df_xmr = yf.download(tickers=\"XMR-USD\", period=\"max\", interval=\"1d\", start=\"2023-01-01\", end=\"2023-10-09\")"
   ]
  },
  {
   "cell_type": "code",
   "execution_count": 38,
   "metadata": {},
   "outputs": [
    {
     "data": {
      "text/html": [
       "<div>\n",
       "<style scoped>\n",
       "    .dataframe tbody tr th:only-of-type {\n",
       "        vertical-align: middle;\n",
       "    }\n",
       "\n",
       "    .dataframe tbody tr th {\n",
       "        vertical-align: top;\n",
       "    }\n",
       "\n",
       "    .dataframe thead th {\n",
       "        text-align: right;\n",
       "    }\n",
       "</style>\n",
       "<table border=\"1\" class=\"dataframe\">\n",
       "  <thead>\n",
       "    <tr style=\"text-align: right;\">\n",
       "      <th></th>\n",
       "      <th>Open</th>\n",
       "      <th>High</th>\n",
       "      <th>Low</th>\n",
       "      <th>Close</th>\n",
       "      <th>Adj Close</th>\n",
       "      <th>Volume</th>\n",
       "      <th>Price increase (in the next day)</th>\n",
       "    </tr>\n",
       "    <tr>\n",
       "      <th>Date</th>\n",
       "      <th></th>\n",
       "      <th></th>\n",
       "      <th></th>\n",
       "      <th></th>\n",
       "      <th></th>\n",
       "      <th></th>\n",
       "      <th></th>\n",
       "    </tr>\n",
       "  </thead>\n",
       "  <tbody>\n",
       "    <tr>\n",
       "      <th>2023-01-01</th>\n",
       "      <td>147.309662</td>\n",
       "      <td>148.931030</td>\n",
       "      <td>146.437485</td>\n",
       "      <td>148.576935</td>\n",
       "      <td>148.576935</td>\n",
       "      <td>36453347</td>\n",
       "      <td>NaN</td>\n",
       "    </tr>\n",
       "    <tr>\n",
       "      <th>2023-01-02</th>\n",
       "      <td>148.582184</td>\n",
       "      <td>149.623535</td>\n",
       "      <td>147.943558</td>\n",
       "      <td>147.943558</td>\n",
       "      <td>147.943558</td>\n",
       "      <td>47050925</td>\n",
       "      <td>NaN</td>\n",
       "    </tr>\n",
       "    <tr>\n",
       "      <th>2023-01-03</th>\n",
       "      <td>147.933929</td>\n",
       "      <td>149.027832</td>\n",
       "      <td>147.628860</td>\n",
       "      <td>148.487930</td>\n",
       "      <td>148.487930</td>\n",
       "      <td>48662135</td>\n",
       "      <td>1.0</td>\n",
       "    </tr>\n",
       "    <tr>\n",
       "      <th>2023-01-04</th>\n",
       "      <td>148.466995</td>\n",
       "      <td>152.488983</td>\n",
       "      <td>148.342621</td>\n",
       "      <td>150.743652</td>\n",
       "      <td>150.743652</td>\n",
       "      <td>83915181</td>\n",
       "      <td>1.0</td>\n",
       "    </tr>\n",
       "    <tr>\n",
       "      <th>2023-01-05</th>\n",
       "      <td>150.790253</td>\n",
       "      <td>155.921738</td>\n",
       "      <td>150.769043</td>\n",
       "      <td>155.921738</td>\n",
       "      <td>155.921738</td>\n",
       "      <td>78049428</td>\n",
       "      <td>0.0</td>\n",
       "    </tr>\n",
       "  </tbody>\n",
       "</table>\n",
       "</div>"
      ],
      "text/plain": [
       "                  Open        High         Low       Close   Adj Close  \\\n",
       "Date                                                                     \n",
       "2023-01-01  147.309662  148.931030  146.437485  148.576935  148.576935   \n",
       "2023-01-02  148.582184  149.623535  147.943558  147.943558  147.943558   \n",
       "2023-01-03  147.933929  149.027832  147.628860  148.487930  148.487930   \n",
       "2023-01-04  148.466995  152.488983  148.342621  150.743652  150.743652   \n",
       "2023-01-05  150.790253  155.921738  150.769043  155.921738  155.921738   \n",
       "\n",
       "              Volume  Price increase (in the next day)  \n",
       "Date                                                    \n",
       "2023-01-01  36453347                               NaN  \n",
       "2023-01-02  47050925                               NaN  \n",
       "2023-01-03  48662135                               1.0  \n",
       "2023-01-04  83915181                               1.0  \n",
       "2023-01-05  78049428                               0.0  "
      ]
     },
     "execution_count": 38,
     "metadata": {},
     "output_type": "execute_result"
    }
   ],
   "source": [
    "# show the downloaded data\n",
    "df_xmr.head()"
   ]
  },
  {
   "cell_type": "code",
   "execution_count": 40,
   "metadata": {},
   "outputs": [],
   "source": [
    "actual_class = (\n",
    "    (df_xmr.loc[\"2023-01-04\":, \"Close\"].to_numpy() > df_xmr.loc[\"2023-01-03\":\"2023-10-07\", \"Close\"]).astype(int)\n",
    ")\n",
    "df_xmr = df_xmr.drop(\"2023-10-08\")\n",
    "df_xmr[\"Price increase (in the next day)\"] = actual_class"
   ]
  },
  {
   "cell_type": "code",
   "execution_count": 47,
   "metadata": {},
   "outputs": [
    {
     "name": "stdout",
     "output_type": "stream",
     "text": [
      "Accuracy: 0.5555555555555556\n",
      "Precision: 0.5882352941176471\n",
      "Recall: 0.43478260869565216\n",
      "F1 Score: 0.5\n",
      "AUC: 0.558300395256917\n",
      "Confusion Matrix:\n",
      "[[15  7]\n",
      " [13 10]]\n",
      "\n",
      "Test Set Performance:\n",
      "Test Accuracy: 0.625\n",
      "Test Precision: 0.6304347826086957\n",
      "Test Recall: 0.8787878787878788\n",
      "Test F1 Score: 0.7341772151898734\n",
      "Test AUC: 0.5698287220026351\n",
      "Test Confusion Matrix:\n",
      "[[ 6 17]\n",
      " [ 4 29]]\n"
     ]
    }
   ],
   "source": [
    "import pandas as pd\n",
    "from sklearn.ensemble import RandomForestClassifier\n",
    "from sklearn.metrics import accuracy_score, precision_score, recall_score, f1_score, roc_auc_score, confusion_matrix\n",
    "from sklearn.model_selection import train_test_split\n",
    "from sklearn.impute import SimpleImputer\n",
    "\n",
    "# Split the data into training, validation, and test sets\n",
    "train_data, test_data = train_test_split(df_xmr, test_size=0.2, shuffle=False)\n",
    "train_data, val_data = train_test_split(train_data, test_size=0.2, shuffle=False)\n",
    "\n",
    "# Define feature columns and target variable\n",
    "feature_cols = ['Open', 'High', 'Low', 'Close', 'Adj Close', 'Volume']\n",
    "target_col = 'Price increase (in the next day)'\n",
    "\n",
    "# Split features and target variable for training, validation, and test sets\n",
    "X_train, y_train = train_data[feature_cols], train_data[target_col]\n",
    "X_val, y_val = val_data[feature_cols], val_data[target_col]\n",
    "X_test, y_test = test_data[feature_cols], test_data[target_col]\n",
    "\n",
    "# Handle missing values in the features and target variables\n",
    "imputer = SimpleImputer(strategy=\"mean\")\n",
    "X_train = imputer.fit_transform(X_train)\n",
    "X_val = imputer.transform(X_val)\n",
    "X_test = imputer.transform(X_test)\n",
    "\n",
    "# Handle missing values in the target variable\n",
    "imputer_target = SimpleImputer(strategy=\"most_frequent\")\n",
    "y_train = imputer_target.fit_transform(y_train.values.reshape(-1, 1)).ravel()\n",
    "y_val = imputer_target.transform(y_val.values.reshape(-1, 1)).ravel()\n",
    "y_test = imputer_target.transform(y_test.values.reshape(-1, 1)).ravel()\n",
    "\n",
    "# Train the random forest model\n",
    "model = RandomForestClassifier(n_estimators=100, random_state=42)\n",
    "model.fit(X_train, y_train)\n",
    "\n",
    "# Make predictions on the validation set\n",
    "val_predictions = model.predict(X_val)\n",
    "\n",
    "# Evaluate model performance on the validation set\n",
    "accuracy = accuracy_score(y_val, val_predictions)\n",
    "precision = precision_score(y_val, val_predictions)\n",
    "recall = recall_score(y_val, val_predictions)\n",
    "f1 = f1_score(y_val, val_predictions)\n",
    "auc = roc_auc_score(y_val, val_predictions)\n",
    "confusion = confusion_matrix(y_val, val_predictions)\n",
    "\n",
    "# Print evaluation metrics and confusion matrix\n",
    "print(f'Accuracy: {accuracy}')\n",
    "print(f'Precision: {precision}')\n",
    "print(f'Recall: {recall}')\n",
    "print(f'F1 Score: {f1}')\n",
    "print(f'AUC: {auc}')\n",
    "print('Confusion Matrix:')\n",
    "print(confusion)\n",
    "\n",
    "# Make predictions on the test set\n",
    "test_predictions = model.predict(X_test)\n",
    "\n",
    "# Evaluate model performance on the test set\n",
    "test_accuracy = accuracy_score(y_test, test_predictions)\n",
    "test_precision = precision_score(y_test, test_predictions)\n",
    "test_recall = recall_score(y_test, test_predictions)\n",
    "test_f1 = f1_score(y_test, test_predictions)\n",
    "test_auc = roc_auc_score(y_test, test_predictions)\n",
    "test_confusion = confusion_matrix(y_test, test_predictions)\n",
    "\n",
    "# Print evaluation metrics and confusion matrix for the test set\n",
    "print('\\nTest Set Performance:')\n",
    "print(f'Test Accuracy: {test_accuracy}')\n",
    "print(f'Test Precision: {test_precision}')\n",
    "print(f'Test Recall: {test_recall}')\n",
    "print(f'Test F1 Score: {test_f1}')\n",
    "print(f'Test AUC: {test_auc}')\n",
    "print('Test Confusion Matrix:')\n",
    "print(test_confusion)"
   ]
  },
  {
   "cell_type": "code",
   "execution_count": 48,
   "metadata": {},
   "outputs": [
    {
     "data": {
      "text/plain": [
       "array([0., 0., 0., 0., 1., 0., 0., 0., 0., 0., 0., 1., 0., 0., 0., 1., 0.,\n",
       "       0., 0., 0., 1., 0., 1., 1., 1., 1., 0., 1., 1., 1., 1., 0., 0., 1.,\n",
       "       0., 0., 1., 0., 0., 0., 0., 0., 1., 1., 1.])"
      ]
     },
     "execution_count": 48,
     "metadata": {},
     "output_type": "execute_result"
    }
   ],
   "source": [
    "val_predictions"
   ]
  },
  {
   "cell_type": "code",
   "execution_count": 49,
   "metadata": {},
   "outputs": [
    {
     "name": "stdout",
     "output_type": "stream",
     "text": [
      "\n",
      "Test Set Performance:\n",
      "Test Accuracy: 0.625\n",
      "Test Precision: 0.6304347826086957\n",
      "Test Recall: 0.8787878787878788\n",
      "Test F1 Score: 0.7341772151898734\n",
      "Test AUC: 0.5\n",
      "Test Confusion Matrix:\n",
      "[[ 6 17]\n",
      " [ 4 29]]\n"
     ]
    }
   ],
   "source": [
    "# Evaluate model performance on the test set\n",
    "test_accuracy = accuracy_score(y_test, test_predictions)\n",
    "test_precision = precision_score(y_test, test_predictions)\n",
    "test_recall = recall_score(y_test, test_predictions)\n",
    "test_f1 = f1_score(y_test, test_predictions)\n",
    "test_auc = roc_auc_score(y_test, test_probabilities)\n",
    "test_confusion = confusion_matrix(y_test, test_predictions)\n",
    "\n",
    "# Print evaluation metrics and confusion matrix for the test set\n",
    "print('\\nTest Set Performance:')\n",
    "print(f'Test Accuracy: {test_accuracy}')\n",
    "print(f'Test Precision: {test_precision}')\n",
    "print(f'Test Recall: {test_recall}')\n",
    "print(f'Test F1 Score: {test_f1}')\n",
    "print(f'Test AUC: {test_auc}')\n",
    "print('Test Confusion Matrix:')\n",
    "print(test_confusion)"
   ]
  }
 ],
 "metadata": {
  "kernelspec": {
   "display_name": "Python 3",
   "language": "python",
   "name": "python3"
  },
  "language_info": {
   "codemirror_mode": {
    "name": "ipython",
    "version": 3
   },
   "file_extension": ".py",
   "mimetype": "text/x-python",
   "name": "python",
   "nbconvert_exporter": "python",
   "pygments_lexer": "ipython3",
   "version": "3.10.5"
  }
 },
 "nbformat": 4,
 "nbformat_minor": 2
}
